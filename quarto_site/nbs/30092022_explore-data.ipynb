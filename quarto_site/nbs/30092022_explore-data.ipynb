{
 "cells": [
  {
   "cell_type": "raw",
   "metadata": {},
   "source": [
    "---\n",
    "title: \"Explore data\"\n",
    "author: \"Renato Hermoza\"\n",
    "date: \"2022-09-30\"\n",
    "categories: [\"eda\"]\n",
    "code-fold: true\n",
    "---"
   ]
  },
  {
   "cell_type": "code",
   "execution_count": null,
   "metadata": {},
   "outputs": [],
   "source": [
    "#|echo: false\n",
    "import pandas as pd, numpy as np, matplotlib.pyplot as plt, altair as alt, pytz\n",
    "from fastcore.all import *\n",
    "from datetime import datetime, timedelta"
   ]
  },
  {
   "cell_type": "markdown",
   "metadata": {},
   "source": [
    "## Get data"
   ]
  },
  {
   "cell_type": "code",
   "execution_count": null,
   "metadata": {},
   "outputs": [
    {
     "name": "stdout",
     "output_type": "stream",
     "text": [
      "Last execution time: 02/09/2023 15:39:27\n"
     ]
    }
   ],
   "source": [
    "#|echo: false\n",
    "print(f'Last execution time: {datetime.now(pytz.timezone(\"America/Lima\")).strftime(\"%d/%m/%Y %T\")}')"
   ]
  },
  {
   "cell_type": "code",
   "execution_count": null,
   "metadata": {},
   "outputs": [],
   "source": [
    "#|code-summary: Products type filter\n",
    "explore_types = ['frutas', 'lacteos', 'verduras', 'embutidos', 'panaderia', 'desayuno', 'congelados', 'abarrotes',\n",
    "                 'aves', 'carnes', 'pescados']"
   ]
  },
  {
   "cell_type": "code",
   "execution_count": null,
   "metadata": {},
   "outputs": [
    {
     "name": "stdout",
     "output_type": "stream",
     "text": [
      "(679375, 8)\n"
     ]
    },
    {
     "data": {
      "text/html": [
       "<div>\n",
       "<style scoped>\n",
       "    .dataframe tbody tr th:only-of-type {\n",
       "        vertical-align: middle;\n",
       "    }\n",
       "\n",
       "    .dataframe tbody tr th {\n",
       "        vertical-align: top;\n",
       "    }\n",
       "\n",
       "    .dataframe thead th {\n",
       "        text-align: right;\n",
       "    }\n",
       "</style>\n",
       "<table border=\"1\" class=\"dataframe\">\n",
       "  <thead>\n",
       "    <tr style=\"text-align: right;\">\n",
       "      <th></th>\n",
       "      <th>sku</th>\n",
       "      <th>name</th>\n",
       "      <th>brand</th>\n",
       "      <th>category</th>\n",
       "      <th>uri</th>\n",
       "      <th>price</th>\n",
       "      <th>store</th>\n",
       "      <th>date</th>\n",
       "    </tr>\n",
       "  </thead>\n",
       "  <tbody>\n",
       "    <tr>\n",
       "      <th>1338920</th>\n",
       "      <td>2118</td>\n",
       "      <td>filete de atún bell's en aceite vegetal lata 1...</td>\n",
       "      <td>BELL'S</td>\n",
       "      <td>https://www.plazavea.com.pe/abarrotes</td>\n",
       "      <td>NaN</td>\n",
       "      <td>4.80</td>\n",
       "      <td>plaza_vea</td>\n",
       "      <td>2022-10-20</td>\n",
       "    </tr>\n",
       "    <tr>\n",
       "      <th>968286</th>\n",
       "      <td>26581</td>\n",
       "      <td>bombones bon o bon caja 270g (plaza_vea)</td>\n",
       "      <td>ARCOR</td>\n",
       "      <td>https://www.plazavea.com.pe/abarrotes</td>\n",
       "      <td>https://www.plazavea.com.pe/bombones-arcor-bon...</td>\n",
       "      <td>27.20</td>\n",
       "      <td>plaza_vea</td>\n",
       "      <td>2023-07-10</td>\n",
       "    </tr>\n",
       "    <tr>\n",
       "      <th>1004953</th>\n",
       "      <td>953471</td>\n",
       "      <td>infusión orgánica sunka luxury special tea 15u...</td>\n",
       "      <td>Sunka</td>\n",
       "      <td>https://www.metro.pe/desayuno/cafe-e-infusione...</td>\n",
       "      <td>https://www.metro.pe/infusion-organica-sunka-l...</td>\n",
       "      <td>38.99</td>\n",
       "      <td>metro</td>\n",
       "      <td>2022-10-10</td>\n",
       "    </tr>\n",
       "  </tbody>\n",
       "</table>\n",
       "</div>"
      ],
      "text/plain": [
       "            sku                                               name   brand  \\\n",
       "1338920    2118  filete de atún bell's en aceite vegetal lata 1...  BELL'S   \n",
       "968286    26581           bombones bon o bon caja 270g (plaza_vea)   ARCOR   \n",
       "1004953  953471  infusión orgánica sunka luxury special tea 15u...   Sunka   \n",
       "\n",
       "                                                  category  \\\n",
       "1338920              https://www.plazavea.com.pe/abarrotes   \n",
       "968286               https://www.plazavea.com.pe/abarrotes   \n",
       "1004953  https://www.metro.pe/desayuno/cafe-e-infusione...   \n",
       "\n",
       "                                                       uri  price      store  \\\n",
       "1338920                                                NaN   4.80  plaza_vea   \n",
       "968286   https://www.plazavea.com.pe/bombones-arcor-bon...  27.20  plaza_vea   \n",
       "1004953  https://www.metro.pe/infusion-organica-sunka-l...  38.99      metro   \n",
       "\n",
       "              date  \n",
       "1338920 2022-10-20  \n",
       "968286  2023-07-10  \n",
       "1004953 2022-10-10  "
      ]
     },
     "execution_count": null,
     "metadata": {},
     "output_type": "execute_result"
    }
   ],
   "source": [
    "#|code-summary: Data table\n",
    "path = Path('../../output')\n",
    "csv_files = L(path.glob('*.csv')).filter(lambda o: os.stat(o).st_size>0)\n",
    "pat_store = re.compile('(.+)\\_\\d+')\n",
    "pat_date = re.compile('.+\\_(\\d+)')\n",
    "df = (\n",
    "    pd.concat([pd.read_csv(o).assign(store=pat_store.match(o.stem)[1], date=pat_date.match(o.stem)[1])\n",
    "               for o in csv_files], ignore_index=True)\n",
    "    .pipe(lambda d: d.assign(\n",
    "        name=d.name.str.lower()+' ('+d.store+')',\n",
    "        sku=d.id.where(d.sku.isna(), d.sku).astype(int),\n",
    "        date=pd.to_datetime(d.date)\n",
    "    ))\n",
    "    .drop('id', axis=1)\n",
    "    .loc[lambda d: d.category.str.contains('|'.join(explore_types))]\n",
    "    # Filter products with recent data\n",
    "#     .loc[lambda d: d.name.isin(d.groupby('name').date.max().loc[ge(datetime.now()-timedelta(days=30))].index)]\n",
    "    # Filter empty prices\n",
    "    .loc[lambda d: d.price>0]\n",
    ")\n",
    "print(df.shape)\n",
    "df.sample(3)"
   ]
  },
  {
   "cell_type": "markdown",
   "metadata": {},
   "source": [
    "## Top changes (ratio)"
   ]
  },
  {
   "cell_type": "code",
   "execution_count": null,
   "metadata": {},
   "outputs": [
    {
     "ename": "ValueError",
     "evalue": "No objects to concatenate",
     "output_type": "error",
     "traceback": [
      "\u001b[0;31m---------------------------------------------------------------------------\u001b[0m",
      "\u001b[0;31mValueError\u001b[0m                                Traceback (most recent call last)",
      "Cell \u001b[0;32mIn [9], line 1\u001b[0m\n\u001b[0;32m----> 1\u001b[0m top_changes \u001b[38;5;241m=\u001b[39m (\u001b[43mdf\u001b[49m\n\u001b[1;32m      2\u001b[0m \u001b[43m \u001b[49m\u001b[38;5;66;43;03m# Use last 30 days of data to compare prices\u001b[39;49;00m\n\u001b[1;32m      3\u001b[0m \u001b[43m \u001b[49m\u001b[38;5;241;43m.\u001b[39;49m\u001b[43mloc\u001b[49m\u001b[43m[\u001b[49m\u001b[38;5;28;43;01mlambda\u001b[39;49;00m\u001b[43m \u001b[49m\u001b[43md\u001b[49m\u001b[43m:\u001b[49m\u001b[43m \u001b[49m\u001b[43md\u001b[49m\u001b[38;5;241;43m.\u001b[39;49m\u001b[43mdate\u001b[49m\u001b[38;5;241;43m>\u001b[39;49m\u001b[38;5;241;43m=\u001b[39;49m\u001b[43m(\u001b[49m\u001b[43mdatetime\u001b[49m\u001b[38;5;241;43m.\u001b[39;49m\u001b[43mnow\u001b[49m\u001b[43m(\u001b[49m\u001b[43m)\u001b[49m\u001b[38;5;241;43m-\u001b[39;49m\u001b[43mtimedelta\u001b[49m\u001b[43m(\u001b[49m\u001b[43mdays\u001b[49m\u001b[38;5;241;43m=\u001b[39;49m\u001b[38;5;241;43m30\u001b[39;49m\u001b[43m)\u001b[49m\u001b[43m)\u001b[49m\u001b[43m]\u001b[49m\n\u001b[1;32m      4\u001b[0m \u001b[43m \u001b[49m\u001b[38;5;241;43m.\u001b[39;49m\u001b[43msort_values\u001b[49m\u001b[43m(\u001b[49m\u001b[38;5;124;43m'\u001b[39;49m\u001b[38;5;124;43mdate\u001b[39;49m\u001b[38;5;124;43m'\u001b[39;49m\u001b[43m)\u001b[49m\n\u001b[1;32m      5\u001b[0m \u001b[43m \u001b[49m\u001b[38;5;66;43;03m# Get percentage change\u001b[39;49;00m\n\u001b[1;32m      6\u001b[0m \u001b[43m \u001b[49m\u001b[38;5;241;43m.\u001b[39;49m\u001b[43massign\u001b[49m\u001b[43m(\u001b[49m\u001b[43mchange\u001b[49m\u001b[38;5;241;43m=\u001b[39;49m\u001b[38;5;28;43;01mlambda\u001b[39;49;00m\u001b[43m \u001b[49m\u001b[43md\u001b[49m\u001b[43m:\u001b[49m\u001b[43m \u001b[49m\u001b[43md\u001b[49m\n\u001b[1;32m      7\u001b[0m \u001b[43m     \u001b[49m\u001b[38;5;241;43m.\u001b[39;49m\u001b[43mgroupby\u001b[49m\u001b[43m(\u001b[49m\u001b[43m[\u001b[49m\u001b[38;5;124;43m'\u001b[39;49m\u001b[38;5;124;43mstore\u001b[39;49m\u001b[38;5;124;43m'\u001b[39;49m\u001b[43m,\u001b[49m\u001b[38;5;124;43m'\u001b[39;49m\u001b[38;5;124;43msku\u001b[39;49m\u001b[38;5;124;43m'\u001b[39;49m\u001b[43m]\u001b[49m\u001b[43m,\u001b[49m\u001b[43m \u001b[49m\u001b[43mas_index\u001b[49m\u001b[38;5;241;43m=\u001b[39;49m\u001b[38;5;28;43;01mFalse\u001b[39;49;00m\u001b[43m)\u001b[49m\n\u001b[1;32m      8\u001b[0m \u001b[43m     \u001b[49m\u001b[38;5;241;43m.\u001b[39;49m\u001b[43mprice\u001b[49m\u001b[38;5;241;43m.\u001b[39;49m\u001b[43mtransform\u001b[49m\u001b[43m(\u001b[49m\u001b[38;5;28;43;01mlambda\u001b[39;49;00m\u001b[43m \u001b[49m\u001b[43md\u001b[49m\u001b[43m:\u001b[49m\u001b[43m \u001b[49m\u001b[43m(\u001b[49m\u001b[43md\u001b[49m\u001b[38;5;241;43m-\u001b[39;49m\u001b[43md\u001b[49m\u001b[38;5;241;43m.\u001b[39;49m\u001b[43mshift\u001b[49m\u001b[43m(\u001b[49m\u001b[43m)\u001b[49m\u001b[43m)\u001b[49m\u001b[38;5;241;43m/\u001b[39;49m\u001b[43md\u001b[49m\u001b[38;5;241;43m.\u001b[39;49m\u001b[43mshift\u001b[49m\u001b[43m(\u001b[49m\u001b[43m)\u001b[49m\u001b[43m)\u001b[49m\n\u001b[1;32m      9\u001b[0m \u001b[43m \u001b[49m\u001b[43m)\u001b[49m\n\u001b[1;32m     10\u001b[0m  \u001b[38;5;241m.\u001b[39mgroupby([\u001b[38;5;124m'\u001b[39m\u001b[38;5;124mstore\u001b[39m\u001b[38;5;124m'\u001b[39m,\u001b[38;5;124m'\u001b[39m\u001b[38;5;124msku\u001b[39m\u001b[38;5;124m'\u001b[39m], as_index\u001b[38;5;241m=\u001b[39m\u001b[38;5;28;01mFalse\u001b[39;00m)\n\u001b[1;32m     11\u001b[0m  \u001b[38;5;241m.\u001b[39magg({\u001b[38;5;124m'\u001b[39m\u001b[38;5;124mprice\u001b[39m\u001b[38;5;124m'\u001b[39m:\u001b[38;5;124m'\u001b[39m\u001b[38;5;124mlast\u001b[39m\u001b[38;5;124m'\u001b[39m, \u001b[38;5;124m'\u001b[39m\u001b[38;5;124mchange\u001b[39m\u001b[38;5;124m'\u001b[39m:\u001b[38;5;124m'\u001b[39m\u001b[38;5;124mmean\u001b[39m\u001b[38;5;124m'\u001b[39m, \u001b[38;5;124m'\u001b[39m\u001b[38;5;124mdate\u001b[39m\u001b[38;5;124m'\u001b[39m:\u001b[38;5;124m'\u001b[39m\u001b[38;5;124mlast\u001b[39m\u001b[38;5;124m'\u001b[39m})\n\u001b[1;32m     12\u001b[0m  \u001b[38;5;241m.\u001b[39mrename({\u001b[38;5;124m'\u001b[39m\u001b[38;5;124mprice\u001b[39m\u001b[38;5;124m'\u001b[39m:\u001b[38;5;124m'\u001b[39m\u001b[38;5;124mlast_price\u001b[39m\u001b[38;5;124m'\u001b[39m, \u001b[38;5;124m'\u001b[39m\u001b[38;5;124mdate\u001b[39m\u001b[38;5;124m'\u001b[39m:\u001b[38;5;124m'\u001b[39m\u001b[38;5;124mlast_date\u001b[39m\u001b[38;5;124m'\u001b[39m}, axis\u001b[38;5;241m=\u001b[39m\u001b[38;5;241m1\u001b[39m)\n\u001b[1;32m     13\u001b[0m  \u001b[38;5;241m.\u001b[39mdropna()\n\u001b[1;32m     14\u001b[0m  \u001b[38;5;241m.\u001b[39mloc[\u001b[38;5;28;01mlambda\u001b[39;00m d: d\u001b[38;5;241m.\u001b[39mlast_date\u001b[38;5;241m==\u001b[39md\u001b[38;5;241m.\u001b[39mlast_date\u001b[38;5;241m.\u001b[39mmax()]\n\u001b[1;32m     15\u001b[0m  \u001b[38;5;241m.\u001b[39mloc[\u001b[38;5;28;01mlambda\u001b[39;00m d: d\u001b[38;5;241m.\u001b[39mchange\u001b[38;5;241m.\u001b[39mabs()\u001b[38;5;241m.\u001b[39msort_values(ascending\u001b[38;5;241m=\u001b[39m\u001b[38;5;28;01mFalse\u001b[39;00m)\u001b[38;5;241m.\u001b[39mindex]\n\u001b[1;32m     16\u001b[0m )\n\u001b[1;32m     17\u001b[0m top_changes\u001b[38;5;241m.\u001b[39mhead(\u001b[38;5;241m3\u001b[39m)\n",
      "File \u001b[0;32m~/mambaforge/envs/ml/lib/python3.9/site-packages/pandas/core/frame.py:4889\u001b[0m, in \u001b[0;36mDataFrame.assign\u001b[0;34m(self, **kwargs)\u001b[0m\n\u001b[1;32m   4886\u001b[0m data \u001b[38;5;241m=\u001b[39m \u001b[38;5;28mself\u001b[39m\u001b[38;5;241m.\u001b[39mcopy()\n\u001b[1;32m   4888\u001b[0m \u001b[38;5;28;01mfor\u001b[39;00m k, v \u001b[38;5;129;01min\u001b[39;00m kwargs\u001b[38;5;241m.\u001b[39mitems():\n\u001b[0;32m-> 4889\u001b[0m     data[k] \u001b[38;5;241m=\u001b[39m \u001b[43mcom\u001b[49m\u001b[38;5;241;43m.\u001b[39;49m\u001b[43mapply_if_callable\u001b[49m\u001b[43m(\u001b[49m\u001b[43mv\u001b[49m\u001b[43m,\u001b[49m\u001b[43m \u001b[49m\u001b[43mdata\u001b[49m\u001b[43m)\u001b[49m\n\u001b[1;32m   4890\u001b[0m \u001b[38;5;28;01mreturn\u001b[39;00m data\n",
      "File \u001b[0;32m~/mambaforge/envs/ml/lib/python3.9/site-packages/pandas/core/common.py:374\u001b[0m, in \u001b[0;36mapply_if_callable\u001b[0;34m(maybe_callable, obj, **kwargs)\u001b[0m\n\u001b[1;32m    363\u001b[0m \u001b[38;5;124;03m\"\"\"\u001b[39;00m\n\u001b[1;32m    364\u001b[0m \u001b[38;5;124;03mEvaluate possibly callable input using obj and kwargs if it is callable,\u001b[39;00m\n\u001b[1;32m    365\u001b[0m \u001b[38;5;124;03motherwise return as it is.\u001b[39;00m\n\u001b[0;32m   (...)\u001b[0m\n\u001b[1;32m    371\u001b[0m \u001b[38;5;124;03m**kwargs\u001b[39;00m\n\u001b[1;32m    372\u001b[0m \u001b[38;5;124;03m\"\"\"\u001b[39;00m\n\u001b[1;32m    373\u001b[0m \u001b[38;5;28;01mif\u001b[39;00m callable(maybe_callable):\n\u001b[0;32m--> 374\u001b[0m     \u001b[38;5;28;01mreturn\u001b[39;00m \u001b[43mmaybe_callable\u001b[49m\u001b[43m(\u001b[49m\u001b[43mobj\u001b[49m\u001b[43m,\u001b[49m\u001b[43m \u001b[49m\u001b[38;5;241;43m*\u001b[39;49m\u001b[38;5;241;43m*\u001b[39;49m\u001b[43mkwargs\u001b[49m\u001b[43m)\u001b[49m\n\u001b[1;32m    376\u001b[0m \u001b[38;5;28;01mreturn\u001b[39;00m maybe_callable\n",
      "Cell \u001b[0;32mIn [9], line 6\u001b[0m, in \u001b[0;36m<lambda>\u001b[0;34m(d)\u001b[0m\n\u001b[1;32m      1\u001b[0m top_changes \u001b[38;5;241m=\u001b[39m (df\n\u001b[1;32m      2\u001b[0m  \u001b[38;5;66;03m# Use last 30 days of data to compare prices\u001b[39;00m\n\u001b[1;32m      3\u001b[0m  \u001b[38;5;241m.\u001b[39mloc[\u001b[38;5;28;01mlambda\u001b[39;00m d: d\u001b[38;5;241m.\u001b[39mdate\u001b[38;5;241m>\u001b[39m\u001b[38;5;241m=\u001b[39m(datetime\u001b[38;5;241m.\u001b[39mnow()\u001b[38;5;241m-\u001b[39mtimedelta(days\u001b[38;5;241m=\u001b[39m\u001b[38;5;241m30\u001b[39m))]\n\u001b[1;32m      4\u001b[0m  \u001b[38;5;241m.\u001b[39msort_values(\u001b[38;5;124m'\u001b[39m\u001b[38;5;124mdate\u001b[39m\u001b[38;5;124m'\u001b[39m)\n\u001b[1;32m      5\u001b[0m  \u001b[38;5;66;03m# Get percentage change\u001b[39;00m\n\u001b[0;32m----> 6\u001b[0m  \u001b[38;5;241m.\u001b[39massign(change\u001b[38;5;241m=\u001b[39m\u001b[38;5;28;01mlambda\u001b[39;00m d: \u001b[43md\u001b[49m\n\u001b[1;32m      7\u001b[0m \u001b[43m     \u001b[49m\u001b[38;5;241;43m.\u001b[39;49m\u001b[43mgroupby\u001b[49m\u001b[43m(\u001b[49m\u001b[43m[\u001b[49m\u001b[38;5;124;43m'\u001b[39;49m\u001b[38;5;124;43mstore\u001b[39;49m\u001b[38;5;124;43m'\u001b[39;49m\u001b[43m,\u001b[49m\u001b[38;5;124;43m'\u001b[39;49m\u001b[38;5;124;43msku\u001b[39;49m\u001b[38;5;124;43m'\u001b[39;49m\u001b[43m]\u001b[49m\u001b[43m,\u001b[49m\u001b[43m \u001b[49m\u001b[43mas_index\u001b[49m\u001b[38;5;241;43m=\u001b[39;49m\u001b[38;5;28;43;01mFalse\u001b[39;49;00m\u001b[43m)\u001b[49m\n\u001b[1;32m      8\u001b[0m \u001b[43m     \u001b[49m\u001b[38;5;241;43m.\u001b[39;49m\u001b[43mprice\u001b[49m\u001b[38;5;241;43m.\u001b[39;49m\u001b[43mtransform\u001b[49m\u001b[43m(\u001b[49m\u001b[38;5;28;43;01mlambda\u001b[39;49;00m\u001b[43m \u001b[49m\u001b[43md\u001b[49m\u001b[43m:\u001b[49m\u001b[43m \u001b[49m\u001b[43m(\u001b[49m\u001b[43md\u001b[49m\u001b[38;5;241;43m-\u001b[39;49m\u001b[43md\u001b[49m\u001b[38;5;241;43m.\u001b[39;49m\u001b[43mshift\u001b[49m\u001b[43m(\u001b[49m\u001b[43m)\u001b[49m\u001b[43m)\u001b[49m\u001b[38;5;241;43m/\u001b[39;49m\u001b[43md\u001b[49m\u001b[38;5;241;43m.\u001b[39;49m\u001b[43mshift\u001b[49m\u001b[43m(\u001b[49m\u001b[43m)\u001b[49m\u001b[43m)\u001b[49m\n\u001b[1;32m      9\u001b[0m  )\n\u001b[1;32m     10\u001b[0m  \u001b[38;5;241m.\u001b[39mgroupby([\u001b[38;5;124m'\u001b[39m\u001b[38;5;124mstore\u001b[39m\u001b[38;5;124m'\u001b[39m,\u001b[38;5;124m'\u001b[39m\u001b[38;5;124msku\u001b[39m\u001b[38;5;124m'\u001b[39m], as_index\u001b[38;5;241m=\u001b[39m\u001b[38;5;28;01mFalse\u001b[39;00m)\n\u001b[1;32m     11\u001b[0m  \u001b[38;5;241m.\u001b[39magg({\u001b[38;5;124m'\u001b[39m\u001b[38;5;124mprice\u001b[39m\u001b[38;5;124m'\u001b[39m:\u001b[38;5;124m'\u001b[39m\u001b[38;5;124mlast\u001b[39m\u001b[38;5;124m'\u001b[39m, \u001b[38;5;124m'\u001b[39m\u001b[38;5;124mchange\u001b[39m\u001b[38;5;124m'\u001b[39m:\u001b[38;5;124m'\u001b[39m\u001b[38;5;124mmean\u001b[39m\u001b[38;5;124m'\u001b[39m, \u001b[38;5;124m'\u001b[39m\u001b[38;5;124mdate\u001b[39m\u001b[38;5;124m'\u001b[39m:\u001b[38;5;124m'\u001b[39m\u001b[38;5;124mlast\u001b[39m\u001b[38;5;124m'\u001b[39m})\n\u001b[1;32m     12\u001b[0m  \u001b[38;5;241m.\u001b[39mrename({\u001b[38;5;124m'\u001b[39m\u001b[38;5;124mprice\u001b[39m\u001b[38;5;124m'\u001b[39m:\u001b[38;5;124m'\u001b[39m\u001b[38;5;124mlast_price\u001b[39m\u001b[38;5;124m'\u001b[39m, \u001b[38;5;124m'\u001b[39m\u001b[38;5;124mdate\u001b[39m\u001b[38;5;124m'\u001b[39m:\u001b[38;5;124m'\u001b[39m\u001b[38;5;124mlast_date\u001b[39m\u001b[38;5;124m'\u001b[39m}, axis\u001b[38;5;241m=\u001b[39m\u001b[38;5;241m1\u001b[39m)\n\u001b[1;32m     13\u001b[0m  \u001b[38;5;241m.\u001b[39mdropna()\n\u001b[1;32m     14\u001b[0m  \u001b[38;5;241m.\u001b[39mloc[\u001b[38;5;28;01mlambda\u001b[39;00m d: d\u001b[38;5;241m.\u001b[39mlast_date\u001b[38;5;241m==\u001b[39md\u001b[38;5;241m.\u001b[39mlast_date\u001b[38;5;241m.\u001b[39mmax()]\n\u001b[1;32m     15\u001b[0m  \u001b[38;5;241m.\u001b[39mloc[\u001b[38;5;28;01mlambda\u001b[39;00m d: d\u001b[38;5;241m.\u001b[39mchange\u001b[38;5;241m.\u001b[39mabs()\u001b[38;5;241m.\u001b[39msort_values(ascending\u001b[38;5;241m=\u001b[39m\u001b[38;5;28;01mFalse\u001b[39;00m)\u001b[38;5;241m.\u001b[39mindex]\n\u001b[1;32m     16\u001b[0m )\n\u001b[1;32m     17\u001b[0m top_changes\u001b[38;5;241m.\u001b[39mhead(\u001b[38;5;241m3\u001b[39m)\n",
      "File \u001b[0;32m~/mambaforge/envs/ml/lib/python3.9/site-packages/pandas/core/groupby/generic.py:1256\u001b[0m, in \u001b[0;36mDataFrameGroupBy.transform\u001b[0;34m(self, func, engine, engine_kwargs, *args, **kwargs)\u001b[0m\n\u001b[1;32m   1253\u001b[0m \u001b[38;5;129m@Substitution\u001b[39m(klass\u001b[38;5;241m=\u001b[39m\u001b[38;5;124m\"\u001b[39m\u001b[38;5;124mDataFrame\u001b[39m\u001b[38;5;124m\"\u001b[39m)\n\u001b[1;32m   1254\u001b[0m \u001b[38;5;129m@Appender\u001b[39m(_transform_template)\n\u001b[1;32m   1255\u001b[0m \u001b[38;5;28;01mdef\u001b[39;00m \u001b[38;5;21mtransform\u001b[39m(\u001b[38;5;28mself\u001b[39m, func, \u001b[38;5;241m*\u001b[39margs, engine\u001b[38;5;241m=\u001b[39m\u001b[38;5;28;01mNone\u001b[39;00m, engine_kwargs\u001b[38;5;241m=\u001b[39m\u001b[38;5;28;01mNone\u001b[39;00m, \u001b[38;5;241m*\u001b[39m\u001b[38;5;241m*\u001b[39mkwargs):\n\u001b[0;32m-> 1256\u001b[0m     \u001b[38;5;28;01mreturn\u001b[39;00m \u001b[38;5;28;43mself\u001b[39;49m\u001b[38;5;241;43m.\u001b[39;49m\u001b[43m_transform\u001b[49m\u001b[43m(\u001b[49m\n\u001b[1;32m   1257\u001b[0m \u001b[43m        \u001b[49m\u001b[43mfunc\u001b[49m\u001b[43m,\u001b[49m\u001b[43m \u001b[49m\u001b[38;5;241;43m*\u001b[39;49m\u001b[43margs\u001b[49m\u001b[43m,\u001b[49m\u001b[43m \u001b[49m\u001b[43mengine\u001b[49m\u001b[38;5;241;43m=\u001b[39;49m\u001b[43mengine\u001b[49m\u001b[43m,\u001b[49m\u001b[43m \u001b[49m\u001b[43mengine_kwargs\u001b[49m\u001b[38;5;241;43m=\u001b[39;49m\u001b[43mengine_kwargs\u001b[49m\u001b[43m,\u001b[49m\u001b[43m \u001b[49m\u001b[38;5;241;43m*\u001b[39;49m\u001b[38;5;241;43m*\u001b[39;49m\u001b[43mkwargs\u001b[49m\n\u001b[1;32m   1258\u001b[0m \u001b[43m    \u001b[49m\u001b[43m)\u001b[49m\n",
      "File \u001b[0;32m~/mambaforge/envs/ml/lib/python3.9/site-packages/pandas/core/groupby/groupby.py:1851\u001b[0m, in \u001b[0;36mGroupBy._transform\u001b[0;34m(self, func, engine, engine_kwargs, *args, **kwargs)\u001b[0m\n\u001b[1;32m   1848\u001b[0m func \u001b[38;5;241m=\u001b[39m com\u001b[38;5;241m.\u001b[39mget_cython_func(func) \u001b[38;5;129;01mor\u001b[39;00m func\n\u001b[1;32m   1850\u001b[0m \u001b[38;5;28;01mif\u001b[39;00m \u001b[38;5;129;01mnot\u001b[39;00m \u001b[38;5;28misinstance\u001b[39m(func, \u001b[38;5;28mstr\u001b[39m):\n\u001b[0;32m-> 1851\u001b[0m     \u001b[38;5;28;01mreturn\u001b[39;00m \u001b[38;5;28;43mself\u001b[39;49m\u001b[38;5;241;43m.\u001b[39;49m\u001b[43m_transform_general\u001b[49m\u001b[43m(\u001b[49m\u001b[43mfunc\u001b[49m\u001b[43m,\u001b[49m\u001b[43m \u001b[49m\u001b[38;5;241;43m*\u001b[39;49m\u001b[43margs\u001b[49m\u001b[43m,\u001b[49m\u001b[43m \u001b[49m\u001b[38;5;241;43m*\u001b[39;49m\u001b[38;5;241;43m*\u001b[39;49m\u001b[43mkwargs\u001b[49m\u001b[43m)\u001b[49m\n\u001b[1;32m   1853\u001b[0m \u001b[38;5;28;01melif\u001b[39;00m func \u001b[38;5;129;01mnot\u001b[39;00m \u001b[38;5;129;01min\u001b[39;00m base\u001b[38;5;241m.\u001b[39mtransform_kernel_allowlist:\n\u001b[1;32m   1854\u001b[0m     msg \u001b[38;5;241m=\u001b[39m \u001b[38;5;124mf\u001b[39m\u001b[38;5;124m\"\u001b[39m\u001b[38;5;124m'\u001b[39m\u001b[38;5;132;01m{\u001b[39;00mfunc\u001b[38;5;132;01m}\u001b[39;00m\u001b[38;5;124m'\u001b[39m\u001b[38;5;124m is not a valid function name for transform(name)\u001b[39m\u001b[38;5;124m\"\u001b[39m\n",
      "File \u001b[0;32m~/mambaforge/envs/ml/lib/python3.9/site-packages/pandas/core/groupby/generic.py:1249\u001b[0m, in \u001b[0;36mDataFrameGroupBy._transform_general\u001b[0;34m(self, func, *args, **kwargs)\u001b[0m\n\u001b[1;32m   1247\u001b[0m concat_index \u001b[38;5;241m=\u001b[39m obj\u001b[38;5;241m.\u001b[39mcolumns \u001b[38;5;28;01mif\u001b[39;00m \u001b[38;5;28mself\u001b[39m\u001b[38;5;241m.\u001b[39maxis \u001b[38;5;241m==\u001b[39m \u001b[38;5;241m0\u001b[39m \u001b[38;5;28;01melse\u001b[39;00m obj\u001b[38;5;241m.\u001b[39mindex\n\u001b[1;32m   1248\u001b[0m other_axis \u001b[38;5;241m=\u001b[39m \u001b[38;5;241m1\u001b[39m \u001b[38;5;28;01mif\u001b[39;00m \u001b[38;5;28mself\u001b[39m\u001b[38;5;241m.\u001b[39maxis \u001b[38;5;241m==\u001b[39m \u001b[38;5;241m0\u001b[39m \u001b[38;5;28;01melse\u001b[39;00m \u001b[38;5;241m0\u001b[39m  \u001b[38;5;66;03m# switches between 0 & 1\u001b[39;00m\n\u001b[0;32m-> 1249\u001b[0m concatenated \u001b[38;5;241m=\u001b[39m \u001b[43mconcat\u001b[49m\u001b[43m(\u001b[49m\u001b[43mapplied\u001b[49m\u001b[43m,\u001b[49m\u001b[43m \u001b[49m\u001b[43maxis\u001b[49m\u001b[38;5;241;43m=\u001b[39;49m\u001b[38;5;28;43mself\u001b[39;49m\u001b[38;5;241;43m.\u001b[39;49m\u001b[43maxis\u001b[49m\u001b[43m,\u001b[49m\u001b[43m \u001b[49m\u001b[43mverify_integrity\u001b[49m\u001b[38;5;241;43m=\u001b[39;49m\u001b[38;5;28;43;01mFalse\u001b[39;49;00m\u001b[43m)\u001b[49m\n\u001b[1;32m   1250\u001b[0m concatenated \u001b[38;5;241m=\u001b[39m concatenated\u001b[38;5;241m.\u001b[39mreindex(concat_index, axis\u001b[38;5;241m=\u001b[39mother_axis, copy\u001b[38;5;241m=\u001b[39m\u001b[38;5;28;01mFalse\u001b[39;00m)\n\u001b[1;32m   1251\u001b[0m \u001b[38;5;28;01mreturn\u001b[39;00m \u001b[38;5;28mself\u001b[39m\u001b[38;5;241m.\u001b[39m_set_result_index_ordered(concatenated)\n",
      "File \u001b[0;32m~/mambaforge/envs/ml/lib/python3.9/site-packages/pandas/util/_decorators.py:331\u001b[0m, in \u001b[0;36mdeprecate_nonkeyword_arguments.<locals>.decorate.<locals>.wrapper\u001b[0;34m(*args, **kwargs)\u001b[0m\n\u001b[1;32m    325\u001b[0m \u001b[38;5;28;01mif\u001b[39;00m \u001b[38;5;28mlen\u001b[39m(args) \u001b[38;5;241m>\u001b[39m num_allow_args:\n\u001b[1;32m    326\u001b[0m     warnings\u001b[38;5;241m.\u001b[39mwarn(\n\u001b[1;32m    327\u001b[0m         msg\u001b[38;5;241m.\u001b[39mformat(arguments\u001b[38;5;241m=\u001b[39m_format_argument_list(allow_args)),\n\u001b[1;32m    328\u001b[0m         \u001b[38;5;167;01mFutureWarning\u001b[39;00m,\n\u001b[1;32m    329\u001b[0m         stacklevel\u001b[38;5;241m=\u001b[39mfind_stack_level(),\n\u001b[1;32m    330\u001b[0m     )\n\u001b[0;32m--> 331\u001b[0m \u001b[38;5;28;01mreturn\u001b[39;00m \u001b[43mfunc\u001b[49m\u001b[43m(\u001b[49m\u001b[38;5;241;43m*\u001b[39;49m\u001b[43margs\u001b[49m\u001b[43m,\u001b[49m\u001b[43m \u001b[49m\u001b[38;5;241;43m*\u001b[39;49m\u001b[38;5;241;43m*\u001b[39;49m\u001b[43mkwargs\u001b[49m\u001b[43m)\u001b[49m\n",
      "File \u001b[0;32m~/mambaforge/envs/ml/lib/python3.9/site-packages/pandas/core/reshape/concat.py:368\u001b[0m, in \u001b[0;36mconcat\u001b[0;34m(objs, axis, join, ignore_index, keys, levels, names, verify_integrity, sort, copy)\u001b[0m\n\u001b[1;32m    146\u001b[0m \u001b[38;5;129m@deprecate_nonkeyword_arguments\u001b[39m(version\u001b[38;5;241m=\u001b[39m\u001b[38;5;28;01mNone\u001b[39;00m, allowed_args\u001b[38;5;241m=\u001b[39m[\u001b[38;5;124m\"\u001b[39m\u001b[38;5;124mobjs\u001b[39m\u001b[38;5;124m\"\u001b[39m])\n\u001b[1;32m    147\u001b[0m \u001b[38;5;28;01mdef\u001b[39;00m \u001b[38;5;21mconcat\u001b[39m(\n\u001b[1;32m    148\u001b[0m     objs: Iterable[NDFrame] \u001b[38;5;241m|\u001b[39m Mapping[HashableT, NDFrame],\n\u001b[0;32m   (...)\u001b[0m\n\u001b[1;32m    157\u001b[0m     copy: \u001b[38;5;28mbool\u001b[39m \u001b[38;5;241m=\u001b[39m \u001b[38;5;28;01mTrue\u001b[39;00m,\n\u001b[1;32m    158\u001b[0m ) \u001b[38;5;241m-\u001b[39m\u001b[38;5;241m>\u001b[39m DataFrame \u001b[38;5;241m|\u001b[39m Series:\n\u001b[1;32m    159\u001b[0m     \u001b[38;5;124;03m\"\"\"\u001b[39;00m\n\u001b[1;32m    160\u001b[0m \u001b[38;5;124;03m    Concatenate pandas objects along a particular axis.\u001b[39;00m\n\u001b[1;32m    161\u001b[0m \n\u001b[0;32m   (...)\u001b[0m\n\u001b[1;32m    366\u001b[0m \u001b[38;5;124;03m    1   3   4\u001b[39;00m\n\u001b[1;32m    367\u001b[0m \u001b[38;5;124;03m    \"\"\"\u001b[39;00m\n\u001b[0;32m--> 368\u001b[0m     op \u001b[38;5;241m=\u001b[39m \u001b[43m_Concatenator\u001b[49m\u001b[43m(\u001b[49m\n\u001b[1;32m    369\u001b[0m \u001b[43m        \u001b[49m\u001b[43mobjs\u001b[49m\u001b[43m,\u001b[49m\n\u001b[1;32m    370\u001b[0m \u001b[43m        \u001b[49m\u001b[43maxis\u001b[49m\u001b[38;5;241;43m=\u001b[39;49m\u001b[43maxis\u001b[49m\u001b[43m,\u001b[49m\n\u001b[1;32m    371\u001b[0m \u001b[43m        \u001b[49m\u001b[43mignore_index\u001b[49m\u001b[38;5;241;43m=\u001b[39;49m\u001b[43mignore_index\u001b[49m\u001b[43m,\u001b[49m\n\u001b[1;32m    372\u001b[0m \u001b[43m        \u001b[49m\u001b[43mjoin\u001b[49m\u001b[38;5;241;43m=\u001b[39;49m\u001b[43mjoin\u001b[49m\u001b[43m,\u001b[49m\n\u001b[1;32m    373\u001b[0m \u001b[43m        \u001b[49m\u001b[43mkeys\u001b[49m\u001b[38;5;241;43m=\u001b[39;49m\u001b[43mkeys\u001b[49m\u001b[43m,\u001b[49m\n\u001b[1;32m    374\u001b[0m \u001b[43m        \u001b[49m\u001b[43mlevels\u001b[49m\u001b[38;5;241;43m=\u001b[39;49m\u001b[43mlevels\u001b[49m\u001b[43m,\u001b[49m\n\u001b[1;32m    375\u001b[0m \u001b[43m        \u001b[49m\u001b[43mnames\u001b[49m\u001b[38;5;241;43m=\u001b[39;49m\u001b[43mnames\u001b[49m\u001b[43m,\u001b[49m\n\u001b[1;32m    376\u001b[0m \u001b[43m        \u001b[49m\u001b[43mverify_integrity\u001b[49m\u001b[38;5;241;43m=\u001b[39;49m\u001b[43mverify_integrity\u001b[49m\u001b[43m,\u001b[49m\n\u001b[1;32m    377\u001b[0m \u001b[43m        \u001b[49m\u001b[43mcopy\u001b[49m\u001b[38;5;241;43m=\u001b[39;49m\u001b[43mcopy\u001b[49m\u001b[43m,\u001b[49m\n\u001b[1;32m    378\u001b[0m \u001b[43m        \u001b[49m\u001b[43msort\u001b[49m\u001b[38;5;241;43m=\u001b[39;49m\u001b[43msort\u001b[49m\u001b[43m,\u001b[49m\n\u001b[1;32m    379\u001b[0m \u001b[43m    \u001b[49m\u001b[43m)\u001b[49m\n\u001b[1;32m    381\u001b[0m     \u001b[38;5;28;01mreturn\u001b[39;00m op\u001b[38;5;241m.\u001b[39mget_result()\n",
      "File \u001b[0;32m~/mambaforge/envs/ml/lib/python3.9/site-packages/pandas/core/reshape/concat.py:425\u001b[0m, in \u001b[0;36m_Concatenator.__init__\u001b[0;34m(self, objs, axis, join, keys, levels, names, ignore_index, verify_integrity, copy, sort)\u001b[0m\n\u001b[1;32m    422\u001b[0m     objs \u001b[38;5;241m=\u001b[39m \u001b[38;5;28mlist\u001b[39m(objs)\n\u001b[1;32m    424\u001b[0m \u001b[38;5;28;01mif\u001b[39;00m \u001b[38;5;28mlen\u001b[39m(objs) \u001b[38;5;241m==\u001b[39m \u001b[38;5;241m0\u001b[39m:\n\u001b[0;32m--> 425\u001b[0m     \u001b[38;5;28;01mraise\u001b[39;00m \u001b[38;5;167;01mValueError\u001b[39;00m(\u001b[38;5;124m\"\u001b[39m\u001b[38;5;124mNo objects to concatenate\u001b[39m\u001b[38;5;124m\"\u001b[39m)\n\u001b[1;32m    427\u001b[0m \u001b[38;5;28;01mif\u001b[39;00m keys \u001b[38;5;129;01mis\u001b[39;00m \u001b[38;5;28;01mNone\u001b[39;00m:\n\u001b[1;32m    428\u001b[0m     objs \u001b[38;5;241m=\u001b[39m \u001b[38;5;28mlist\u001b[39m(com\u001b[38;5;241m.\u001b[39mnot_none(\u001b[38;5;241m*\u001b[39mobjs))\n",
      "\u001b[0;31mValueError\u001b[0m: No objects to concatenate"
     ]
    }
   ],
   "source": [
    "top_changes = (df\n",
    " # Use last 30 days of data to compare prices\n",
    " .loc[lambda d: d.date>=(datetime.now()-timedelta(days=30))]\n",
    " .sort_values('date')\n",
    " # Get percentage change\n",
    " .assign(change=lambda d: d\n",
    "     .groupby(['store','sku'], as_index=False)\n",
    "     .price.transform(lambda d: (d-d.shift())/d.shift())\n",
    " )\n",
    " .groupby(['store','sku'], as_index=False)\n",
    " .agg({'price':'last', 'change':'mean', 'date':'last'})\n",
    " .rename({'price':'last_price', 'date':'last_date'}, axis=1)\n",
    " .dropna()\n",
    " .loc[lambda d: d.last_date==d.last_date.max()]\n",
    " .loc[lambda d: d.change.abs().sort_values(ascending=False).index]\n",
    ")\n",
    "top_changes.head(3)"
   ]
  },
  {
   "cell_type": "code",
   "execution_count": null,
   "metadata": {},
   "outputs": [],
   "source": [
    "def plot_changes(df_changes, title):\n",
    "    selection = alt.selection_point(fields=['name'], bind='legend')\n",
    "    dff = df_changes.drop('change', axis=1).merge(df, on=['store','sku'])\n",
    "    return (dff\n",
    "     .pipe(alt.Chart)\n",
    "     .mark_line(point=True)\n",
    "     .encode(\n",
    "         x='date',\n",
    "         y='price',\n",
    "         color=alt.Color('name').scale(domain=sorted(dff.name.unique().tolist())),\n",
    "         tooltip=['name','price','last_price']\n",
    "     )\n",
    "     .add_params(selection)\n",
    "     .transform_filter(selection)\n",
    "     .interactive()\n",
    "     .properties(width=650, title=title)\n",
    "     .configure_legend(orient='top', columns=3)\n",
    "    )"
   ]
  },
  {
   "cell_type": "code",
   "execution_count": null,
   "metadata": {},
   "outputs": [],
   "source": [
    "top_changes.head(10).pipe(plot_changes, 'Top changes')"
   ]
  },
  {
   "cell_type": "code",
   "execution_count": null,
   "metadata": {},
   "outputs": [],
   "source": [
    "(top_changes\n",
    " .sort_values('change')\n",
    " .head(10)\n",
    " .pipe(plot_changes, 'Top drops')\n",
    ")"
   ]
  },
  {
   "cell_type": "code",
   "execution_count": null,
   "metadata": {},
   "outputs": [],
   "source": [
    "(top_changes\n",
    " .sort_values('change')\n",
    " .tail(10)\n",
    " .pipe(plot_changes, 'Top increases')\n",
    ")"
   ]
  },
  {
   "cell_type": "markdown",
   "metadata": {},
   "source": [
    "## Top changes (absolute values)"
   ]
  },
  {
   "cell_type": "code",
   "execution_count": null,
   "metadata": {},
   "outputs": [],
   "source": [
    "top_changes_abs = (df\n",
    " # Use last 30 days of data to compare prices\n",
    " .loc[lambda d: d.date>=(datetime.now()-timedelta(days=30))]\n",
    " .sort_values('date')\n",
    " # Get percentage change\n",
    " .assign(change=lambda d: d\n",
    "     .groupby(['store','sku'], as_index=False)\n",
    "     .price.transform(lambda d: (d-d.shift()).iloc[-1])\n",
    " )\n",
    " .groupby(['store','sku'], as_index=False)\n",
    " .agg({'price':'last', 'change':'mean', 'date':'last'})\n",
    " .rename({'price':'last_price', 'date':'last_date'}, axis=1)\n",
    " .dropna()\n",
    " .loc[lambda d: d.last_date==d.last_date.max()]\n",
    " .loc[lambda d: d.change.abs().sort_values(ascending=False).index]\n",
    ")\n",
    "top_changes_abs.head(3)"
   ]
  },
  {
   "cell_type": "code",
   "execution_count": null,
   "metadata": {},
   "outputs": [],
   "source": [
    "top_changes_abs.head(10).pipe(plot_changes, 'Top changes')"
   ]
  },
  {
   "cell_type": "code",
   "execution_count": null,
   "metadata": {},
   "outputs": [],
   "source": [
    "(top_changes_abs\n",
    " .sort_values('change')\n",
    " .head(10)\n",
    " .pipe(plot_changes, 'Top drops')\n",
    ")"
   ]
  },
  {
   "cell_type": "code",
   "execution_count": null,
   "metadata": {},
   "outputs": [],
   "source": [
    "(top_changes_abs\n",
    " .sort_values('change')\n",
    " .tail(10)\n",
    " .pipe(plot_changes, 'Top increases')\n",
    ")"
   ]
  },
  {
   "cell_type": "markdown",
   "metadata": {},
   "source": [
    "## Search specific products"
   ]
  },
  {
   "cell_type": "code",
   "execution_count": null,
   "metadata": {},
   "outputs": [],
   "source": [
    "#|echo: false\n",
    "#|output: false\n",
    "names = df.name[df.name.str.contains(r'(?=.*pollo)(?=.*entero).*') &\n",
    "                ~df.name.str.contains(r'marinado|aderezo')].unique().tolist()\n",
    "names"
   ]
  },
  {
   "cell_type": "code",
   "execution_count": null,
   "metadata": {},
   "outputs": [],
   "source": [
    "(df\n",
    " .loc[df.name.isin(names)]\n",
    " .pipe(alt.Chart)\n",
    " .mark_line(point=True)\n",
    " .encode(x='date', y='price', color='name', tooltip=['name','price'])\n",
    " .properties(width=650, title='Pollo')\n",
    " .interactive()\n",
    " .configure_legend(orient='top', columns=3)\n",
    ")"
   ]
  },
  {
   "cell_type": "code",
   "execution_count": null,
   "metadata": {},
   "outputs": [],
   "source": [
    "#|echo: false\n",
    "#|output: false\n",
    "names = df.name[df.name.str.contains(r'palta') &\n",
    "                ~df.name.str.contains(r'shampoo|humectante|vino|salsa|acondicionador|aceite')].unique().tolist()\n",
    "names"
   ]
  },
  {
   "cell_type": "code",
   "execution_count": null,
   "metadata": {},
   "outputs": [],
   "source": [
    "(df\n",
    " .loc[df.name.isin(names)]\n",
    " .pipe(alt.Chart)\n",
    " .mark_line(point=True)\n",
    " .encode(x='date', y='price', color='name', tooltip=['name','price'])\n",
    " .properties(width=650, title='Palta')\n",
    " .interactive()\n",
    " .configure_legend(orient='top', columns=3)\n",
    ")"
   ]
  },
  {
   "cell_type": "code",
   "execution_count": null,
   "metadata": {},
   "outputs": [],
   "source": [
    "#|echo: false\n",
    "#|output: false\n",
    "names = df.name[df.name.str.contains(r'(?=.*aceite)(?=.*vegetal)(?=.*900).*') &\n",
    "                ~df.name.str.contains(r'atun|atún|pack|filete|caballa|tacos|sardinas')].unique().tolist()\n",
    "names"
   ]
  },
  {
   "cell_type": "code",
   "execution_count": null,
   "metadata": {},
   "outputs": [],
   "source": [
    "(df\n",
    " .loc[df.name.isin(names)]\n",
    " .pipe(alt.Chart)\n",
    " .mark_line(point=True)\n",
    " .encode(x='date', y='price', color='name', tooltip=['name','price'])\n",
    " .properties(width=650, title='Aceite')\n",
    " .interactive()\n",
    " .configure_legend(orient='top', columns=3)\n",
    ")"
   ]
  },
  {
   "cell_type": "code",
   "execution_count": null,
   "metadata": {},
   "outputs": [],
   "source": [
    "#|echo: false\n",
    "#|output: false\n",
    "names = df.name[\n",
    "    df.name.str.contains(r'(?=.*harina)(?=.*1kg).*')\n",
    "#     & ~df.name.str.contains(r'atun|atún|pack|filete|caballa|tacos|sardinas')\n",
    "].unique().tolist()\n",
    "names"
   ]
  },
  {
   "cell_type": "code",
   "execution_count": null,
   "metadata": {},
   "outputs": [],
   "source": [
    "(df\n",
    " .loc[df.name.isin(names)]\n",
    " .pipe(alt.Chart)\n",
    " .mark_line(point=True)\n",
    " .encode(x='date', y='price', color='name', tooltip=['name','price'])\n",
    " .properties(width=650, title='Aceite')\n",
    " .interactive()\n",
    " .configure_legend(orient='top', columns=3)\n",
    ")"
   ]
  },
  {
   "cell_type": "code",
   "execution_count": null,
   "metadata": {},
   "outputs": [
    {
     "data": {
      "text/plain": [
       "['limón tahiti metro x kg (metro)',\n",
       " 'limón dulce x kg (wong)',\n",
       " 'limón x kg (wong)',\n",
       " 'limón x kg (metro)',\n",
       " 'limón tahíti x kg (wong)']"
      ]
     },
     "execution_count": null,
     "metadata": {},
     "output_type": "execute_result"
    }
   ],
   "source": [
    "#|echo: false\n",
    "#|output: false\n",
    "names = df.name[\n",
    "    df.name.str.contains(r'(?=.*limón).*(?=.*kg).*')\n",
    "#     df.name.str.contains(r'limón')\n",
    "#     & ~df.name.str.contains(r'atun|atún|pack|filete|caballa|tacos|sardinas')\n",
    "].unique().tolist()\n",
    "names"
   ]
  },
  {
   "cell_type": "code",
   "execution_count": null,
   "metadata": {},
   "outputs": [
    {
     "data": {
      "text/html": [
       "\n",
       "<style>\n",
       "  #altair-viz-21e2747fc91346e1804e9dc361fdf3e1.vega-embed {\n",
       "    width: 100%;\n",
       "    display: flex;\n",
       "  }\n",
       "\n",
       "  #altair-viz-21e2747fc91346e1804e9dc361fdf3e1.vega-embed details,\n",
       "  #altair-viz-21e2747fc91346e1804e9dc361fdf3e1.vega-embed details summary {\n",
       "    position: relative;\n",
       "  }\n",
       "</style>\n",
       "<div id=\"altair-viz-21e2747fc91346e1804e9dc361fdf3e1\"></div>\n",
       "<script type=\"text/javascript\">\n",
       "  var VEGA_DEBUG = (typeof VEGA_DEBUG == \"undefined\") ? {} : VEGA_DEBUG;\n",
       "  (function(spec, embedOpt){\n",
       "    let outputDiv = document.currentScript.previousElementSibling;\n",
       "    if (outputDiv.id !== \"altair-viz-21e2747fc91346e1804e9dc361fdf3e1\") {\n",
       "      outputDiv = document.getElementById(\"altair-viz-21e2747fc91346e1804e9dc361fdf3e1\");\n",
       "    }\n",
       "    const paths = {\n",
       "      \"vega\": \"https://cdn.jsdelivr.net/npm/vega@5?noext\",\n",
       "      \"vega-lib\": \"https://cdn.jsdelivr.net/npm/vega-lib?noext\",\n",
       "      \"vega-lite\": \"https://cdn.jsdelivr.net/npm/vega-lite@5.8.0?noext\",\n",
       "      \"vega-embed\": \"https://cdn.jsdelivr.net/npm/vega-embed@6?noext\",\n",
       "    };\n",
       "\n",
       "    function maybeLoadScript(lib, version) {\n",
       "      var key = `${lib.replace(\"-\", \"\")}_version`;\n",
       "      return (VEGA_DEBUG[key] == version) ?\n",
       "        Promise.resolve(paths[lib]) :\n",
       "        new Promise(function(resolve, reject) {\n",
       "          var s = document.createElement('script');\n",
       "          document.getElementsByTagName(\"head\")[0].appendChild(s);\n",
       "          s.async = true;\n",
       "          s.onload = () => {\n",
       "            VEGA_DEBUG[key] = version;\n",
       "            return resolve(paths[lib]);\n",
       "          };\n",
       "          s.onerror = () => reject(`Error loading script: ${paths[lib]}`);\n",
       "          s.src = paths[lib];\n",
       "        });\n",
       "    }\n",
       "\n",
       "    function showError(err) {\n",
       "      outputDiv.innerHTML = `<div class=\"error\" style=\"color:red;\">${err}</div>`;\n",
       "      throw err;\n",
       "    }\n",
       "\n",
       "    function displayChart(vegaEmbed) {\n",
       "      vegaEmbed(outputDiv, spec, embedOpt)\n",
       "        .catch(err => showError(`Javascript Error: ${err.message}<br>This usually means there's a typo in your chart specification. See the javascript console for the full traceback.`));\n",
       "    }\n",
       "\n",
       "    if(typeof define === \"function\" && define.amd) {\n",
       "      requirejs.config({paths});\n",
       "      require([\"vega-embed\"], displayChart, err => showError(`Error loading script: ${err.message}`));\n",
       "    } else {\n",
       "      maybeLoadScript(\"vega\", \"5\")\n",
       "        .then(() => maybeLoadScript(\"vega-lite\", \"5.8.0\"))\n",
       "        .then(() => maybeLoadScript(\"vega-embed\", \"6\"))\n",
       "        .catch(showError)\n",
       "        .then(() => displayChart(vegaEmbed));\n",
       "    }\n",
       "  })({\"config\": {\"view\": {\"continuousWidth\": 300, \"continuousHeight\": 300}, \"legend\": {\"columns\": 3, \"orient\": \"top\"}}, \"data\": {\"name\": \"data-f7a7d601fac2ed0270b85b936325638a\"}, \"mark\": {\"type\": \"line\", \"point\": true}, \"encoding\": {\"color\": {\"field\": \"name\", \"type\": \"nominal\"}, \"tooltip\": [{\"field\": \"name\", \"type\": \"nominal\"}, {\"field\": \"price\", \"type\": \"quantitative\"}], \"x\": {\"field\": \"date\", \"type\": \"temporal\"}, \"y\": {\"field\": \"price\", \"type\": \"quantitative\"}}, \"params\": [{\"name\": \"param_2\", \"select\": {\"type\": \"interval\", \"encodings\": [\"x\", \"y\"]}, \"bind\": \"scales\"}], \"title\": \"Aceite\", \"width\": 650, \"$schema\": \"https://vega.github.io/schema/vega-lite/v5.8.0.json\", \"datasets\": {\"data-f7a7d601fac2ed0270b85b936325638a\": [{\"sku\": 33588, \"name\": \"lim\\u00f3n tahiti metro x kg (metro)\", \"brand\": \"Metro\", \"category\": \"https://www.metro.pe/frutas-y-verduras/frutas/limones\", \"uri\": \"https://www.metro.pe/limon-tahiti-metro-x-kg-4080/p\", \"price\": 3.49, \"store\": \"metro\", \"date\": \"2022-09-26T00:00:00\"}, {\"sku\": 33588, \"name\": \"lim\\u00f3n tahiti metro x kg (metro)\", \"brand\": \"Metro\", \"category\": \"https://www.metro.pe/frutas-y-verduras/frutas/limones\", \"uri\": \"https://www.metro.pe/limon-tahiti-metro-x-kg-4080/p\", \"price\": 3.49, \"store\": \"metro\", \"date\": \"2023-03-02T00:00:00\"}, {\"sku\": 14062, \"name\": \"lim\\u00f3n dulce x kg (wong)\", \"brand\": \".\", \"category\": \"https://www.wong.pe/frutas-y-verduras/frutas/naranjas-y-otros-citricos\", \"uri\": \"https://www.wong.pe/limon-dulce-x-kg-4096/p\", \"price\": 6.09, \"store\": \"wong\", \"date\": \"2022-09-26T00:00:00\"}, {\"sku\": 2821, \"name\": \"lim\\u00f3n x kg (wong)\", \"brand\": \"Wong\", \"category\": \"https://www.wong.pe/frutas-y-verduras/frutas/limones\", \"uri\": \"https://www.wong.pe/limon-x-kg-4029/p\", \"price\": 7.19, \"store\": \"wong\", \"date\": \"2022-09-26T00:00:00\"}, {\"sku\": 2821, \"name\": \"lim\\u00f3n x kg (metro)\", \"brand\": \"Gen\\u00e9rico\", \"category\": \"https://www.metro.pe/frutas-y-verduras/frutas/limones\", \"uri\": \"https://www.metro.pe/limon-x-kg-4029/p\", \"price\": 4.29, \"store\": \"metro\", \"date\": \"2023-06-01T00:00:00\"}, {\"sku\": 33588, \"name\": \"lim\\u00f3n tahiti metro x kg (metro)\", \"brand\": \"Metro\", \"category\": \"https://www.metro.pe/frutas-y-verduras/frutas/limones\", \"uri\": \"https://www.metro.pe/limon-tahiti-metro-x-kg-4080/p\", \"price\": 3.49, \"store\": \"metro\", \"date\": \"2023-06-01T00:00:00\"}, {\"sku\": 33588, \"name\": \"lim\\u00f3n tahiti metro x kg (metro)\", \"brand\": \"Metro\", \"category\": \"https://www.metro.pe/frutas-y-verduras/frutas/limones\", \"uri\": \"https://www.metro.pe/limon-tahiti-metro-x-kg-4080/p\", \"price\": 3.49, \"store\": \"metro\", \"date\": \"2022-08-30T00:00:00\"}, {\"sku\": 14062, \"name\": \"lim\\u00f3n dulce x kg (wong)\", \"brand\": \".\", \"category\": \"https://www.wong.pe/frutas-y-verduras/frutas/naranjas-y-otros-citricos\", \"uri\": \"https://www.wong.pe/limon-dulce-x-kg-4096/p\", \"price\": 6.09, \"store\": \"wong\", \"date\": \"2022-10-06T00:00:00\"}, {\"sku\": 2821, \"name\": \"lim\\u00f3n x kg (wong)\", \"brand\": \"Wong\", \"category\": \"https://www.wong.pe/frutas-y-verduras/frutas/limones\", \"uri\": \"https://www.wong.pe/limon-x-kg-4029/p\", \"price\": 6.99, \"store\": \"wong\", \"date\": \"2022-10-06T00:00:00\"}, {\"sku\": 2915, \"name\": \"lim\\u00f3n tah\\u00edti x kg (wong)\", \"brand\": \"Wong\", \"category\": \"https://www.wong.pe/frutas-y-verduras/frutas/limones\", \"uri\": \"https://www.wong.pe/limon-tahiti-x-kg-72923/p\", \"price\": 3.69, \"store\": \"wong\", \"date\": \"2022-10-06T00:00:00\"}, {\"sku\": 2915, \"name\": \"lim\\u00f3n tah\\u00edti x kg (wong)\", \"brand\": \"Wong\", \"category\": \"https://www.wong.pe/frutas-y-verduras/frutas/limones\", \"uri\": \"https://www.wong.pe/limon-tahiti-x-kg-72923/p\", \"price\": 3.69, \"store\": \"wong\", \"date\": \"2022-09-01T00:00:00\"}, {\"sku\": 2821, \"name\": \"lim\\u00f3n x kg (wong)\", \"brand\": \"Wong\", \"category\": \"https://www.wong.pe/frutas-y-verduras/frutas/limones\", \"uri\": \"https://www.wong.pe/limon-x-kg-4029/p\", \"price\": 6.49, \"store\": \"wong\", \"date\": \"2022-09-01T00:00:00\"}, {\"sku\": 2821, \"name\": \"lim\\u00f3n x kg (metro)\", \"brand\": \"Gen\\u00e9rico\", \"category\": \"https://www.metro.pe/frutas-y-verduras/frutas/limones\", \"uri\": \"https://www.metro.pe/limon-x-kg-4029/p\", \"price\": 4.29, \"store\": \"metro\", \"date\": \"2023-05-04T00:00:00\"}, {\"sku\": 33588, \"name\": \"lim\\u00f3n tahiti metro x kg (metro)\", \"brand\": \"Metro\", \"category\": \"https://www.metro.pe/frutas-y-verduras/frutas/limones\", \"uri\": \"https://www.metro.pe/limon-tahiti-metro-x-kg-4080/p\", \"price\": 3.49, \"store\": \"metro\", \"date\": \"2023-05-04T00:00:00\"}, {\"sku\": 2915, \"name\": \"lim\\u00f3n tah\\u00edti x kg (wong)\", \"brand\": \"Wong\", \"category\": \"https://www.wong.pe/frutas-y-verduras/frutas/limones\", \"uri\": \"https://www.wong.pe/limon-tahiti-x-kg-72923/p\", \"price\": 3.69, \"store\": \"wong\", \"date\": \"2022-10-03T00:00:00\"}, {\"sku\": 2821, \"name\": \"lim\\u00f3n x kg (wong)\", \"brand\": \"Wong\", \"category\": \"https://www.wong.pe/frutas-y-verduras/frutas/limones\", \"uri\": \"https://www.wong.pe/limon-x-kg-4029/p\", \"price\": 6.89, \"store\": \"wong\", \"date\": \"2022-10-03T00:00:00\"}, {\"sku\": 33588, \"name\": \"lim\\u00f3n tahiti metro x kg (metro)\", \"brand\": \"Metro\", \"category\": \"https://www.metro.pe/frutas-y-verduras/frutas/limones\", \"uri\": \"https://www.metro.pe/limon-tahiti-metro-x-kg-4080/p\", \"price\": 3.49, \"store\": \"metro\", \"date\": \"2023-06-05T00:00:00\"}, {\"sku\": 2821, \"name\": \"lim\\u00f3n x kg (metro)\", \"brand\": \"Gen\\u00e9rico\", \"category\": \"https://www.metro.pe/frutas-y-verduras/frutas/limones\", \"uri\": \"https://www.metro.pe/limon-x-kg-4029/p\", \"price\": 4.29, \"store\": \"metro\", \"date\": \"2023-06-05T00:00:00\"}, {\"sku\": 2821, \"name\": \"lim\\u00f3n x kg (wong)\", \"brand\": \"Wong\", \"category\": \"https://www.wong.pe/frutas-y-verduras/frutas/limones\", \"uri\": \"https://www.wong.pe/limon-x-kg-4029/p\", \"price\": 6.49, \"store\": \"wong\", \"date\": \"2022-08-31T00:00:00\"}, {\"sku\": 2821, \"name\": \"lim\\u00f3n x kg (metro)\", \"brand\": \"Gen\\u00e9rico\", \"category\": \"https://www.metro.pe/frutas-y-verduras/frutas/limones\", \"uri\": \"https://www.metro.pe/limon-x-kg-4029/p\", \"price\": 4.99, \"store\": \"metro\", \"date\": \"2023-04-24T00:00:00\"}, {\"sku\": 33588, \"name\": \"lim\\u00f3n tahiti metro x kg (metro)\", \"brand\": \"Metro\", \"category\": \"https://www.metro.pe/frutas-y-verduras/frutas/limones\", \"uri\": \"https://www.metro.pe/limon-tahiti-metro-x-kg-4080/p\", \"price\": 3.49, \"store\": \"metro\", \"date\": \"2023-04-24T00:00:00\"}, {\"sku\": 2821, \"name\": \"lim\\u00f3n x kg (wong)\", \"brand\": \"Wong\", \"category\": \"https://www.wong.pe/frutas-y-verduras/frutas/limones\", \"uri\": \"https://www.wong.pe/limon-x-kg-4029/p\", \"price\": 6.89, \"store\": \"wong\", \"date\": \"2022-09-12T00:00:00\"}, {\"sku\": 2915, \"name\": \"lim\\u00f3n tah\\u00edti x kg (wong)\", \"brand\": \"Wong\", \"category\": \"https://www.wong.pe/frutas-y-verduras/frutas/limones\", \"uri\": \"https://www.wong.pe/limon-tahiti-x-kg-72923/p\", \"price\": 3.69, \"store\": \"wong\", \"date\": \"2022-09-12T00:00:00\"}, {\"sku\": 2821, \"name\": \"lim\\u00f3n x kg (metro)\", \"brand\": \"Gen\\u00e9rico\", \"category\": \"https://www.metro.pe/frutas-y-verduras/frutas/limones\", \"uri\": \"https://www.metro.pe/limon-x-kg-4029/p\", \"price\": 4.29, \"store\": \"metro\", \"date\": \"2023-05-29T00:00:00\"}, {\"sku\": 33588, \"name\": \"lim\\u00f3n tahiti metro x kg (metro)\", \"brand\": \"Metro\", \"category\": \"https://www.metro.pe/frutas-y-verduras/frutas/limones\", \"uri\": \"https://www.metro.pe/limon-tahiti-metro-x-kg-4080/p\", \"price\": 3.49, \"store\": \"metro\", \"date\": \"2023-05-29T00:00:00\"}, {\"sku\": 33588, \"name\": \"lim\\u00f3n tahiti metro x kg (metro)\", \"brand\": \"Metro\", \"category\": \"https://www.metro.pe/frutas-y-verduras/frutas/limones\", \"uri\": \"https://www.metro.pe/limon-tahiti-metro-x-kg-4080/p\", \"price\": 3.49, \"store\": \"metro\", \"date\": \"2023-03-09T00:00:00\"}, {\"sku\": 2821, \"name\": \"lim\\u00f3n x kg (metro)\", \"brand\": \"Gen\\u00e9rico\", \"category\": \"https://www.metro.pe/frutas-y-verduras/frutas/limones\", \"uri\": \"https://www.metro.pe/limon-x-kg-4029/p\", \"price\": 4.99, \"store\": \"metro\", \"date\": \"2023-04-17T00:00:00\"}, {\"sku\": 33588, \"name\": \"lim\\u00f3n tahiti metro x kg (metro)\", \"brand\": \"Metro\", \"category\": \"https://www.metro.pe/frutas-y-verduras/frutas/limones\", \"uri\": \"https://www.metro.pe/limon-tahiti-metro-x-kg-4080/p\", \"price\": 3.49, \"store\": \"metro\", \"date\": \"2023-04-17T00:00:00\"}, {\"sku\": 2821, \"name\": \"lim\\u00f3n x kg (metro)\", \"brand\": \".\", \"category\": \"https://www.metro.pe/frutas-y-verduras/frutas/limones\", \"uri\": \"https://www.metro.pe/limon-x-kg-4029/p\", \"price\": 5.19, \"store\": \"metro\", \"date\": \"2023-04-13T00:00:00\"}, {\"sku\": 33588, \"name\": \"lim\\u00f3n tahiti metro x kg (metro)\", \"brand\": \"Metro\", \"category\": \"https://www.metro.pe/frutas-y-verduras/frutas/limones\", \"uri\": \"https://www.metro.pe/limon-tahiti-metro-x-kg-4080/p\", \"price\": 3.49, \"store\": \"metro\", \"date\": \"2023-07-13T00:00:00\"}, {\"sku\": 2821, \"name\": \"lim\\u00f3n x kg (metro)\", \"brand\": \"Gen\\u00e9rico\", \"category\": \"https://www.metro.pe/frutas-y-verduras/frutas/limones\", \"uri\": \"https://www.metro.pe/limon-x-kg-4029/p\", \"price\": 5.69, \"store\": \"metro\", \"date\": \"2023-07-13T00:00:00\"}, {\"sku\": 33588, \"name\": \"lim\\u00f3n tahiti metro x kg (metro)\", \"brand\": \"Metro\", \"category\": \"https://www.metro.pe/frutas-y-verduras/frutas/limones\", \"uri\": \"https://www.metro.pe/limon-tahiti-metro-x-kg-4080/p\", \"price\": 3.49, \"store\": \"metro\", \"date\": \"2022-09-04T00:00:00\"}, {\"sku\": 2821, \"name\": \"lim\\u00f3n x kg (metro)\", \"brand\": \"Gen\\u00e9rico\", \"category\": \"https://www.metro.pe/frutas-y-verduras/frutas/limones\", \"uri\": \"https://www.metro.pe/limon-x-kg-4029/p\", \"price\": 6.79, \"store\": \"metro\", \"date\": \"2023-07-20T00:00:00\"}, {\"sku\": 33588, \"name\": \"lim\\u00f3n tahiti metro x kg (metro)\", \"brand\": \"Metro\", \"category\": \"https://www.metro.pe/frutas-y-verduras/frutas/limones\", \"uri\": \"https://www.metro.pe/limon-tahiti-metro-x-kg-4080/p\", \"price\": 3.49, \"store\": \"metro\", \"date\": \"2022-08-31T00:00:00\"}, {\"sku\": 2821, \"name\": \"lim\\u00f3n x kg (metro)\", \"brand\": \".\", \"category\": \"https://www.metro.pe/frutas-y-verduras/frutas/limones\", \"uri\": \"https://www.metro.pe/limon-x-kg-4029/p\", \"price\": 4.99, \"store\": \"metro\", \"date\": \"2023-03-30T00:00:00\"}, {\"sku\": 33588, \"name\": \"lim\\u00f3n tahiti metro x kg (metro)\", \"brand\": \"Metro\", \"category\": \"https://www.metro.pe/frutas-y-verduras/frutas/limones\", \"uri\": \"https://www.metro.pe/limon-tahiti-metro-x-kg-4080/p\", \"price\": 3.49, \"store\": \"metro\", \"date\": \"2022-09-05T00:00:00\"}, {\"sku\": 2821, \"name\": \"lim\\u00f3n x kg (metro)\", \"brand\": \"Gen\\u00e9rico\", \"category\": \"https://www.metro.pe/frutas-y-verduras/frutas/limones\", \"uri\": \"https://www.metro.pe/limon-x-kg-4029/p\", \"price\": 4.29, \"store\": \"metro\", \"date\": \"2023-05-15T00:00:00\"}, {\"sku\": 33588, \"name\": \"lim\\u00f3n tahiti metro x kg (metro)\", \"brand\": \"Metro\", \"category\": \"https://www.metro.pe/frutas-y-verduras/frutas/limones\", \"uri\": \"https://www.metro.pe/limon-tahiti-metro-x-kg-4080/p\", \"price\": 3.49, \"store\": \"metro\", \"date\": \"2023-05-15T00:00:00\"}, {\"sku\": 33588, \"name\": \"lim\\u00f3n tahiti metro x kg (metro)\", \"brand\": \"Metro\", \"category\": \"https://www.metro.pe/frutas-y-verduras/frutas/limones\", \"uri\": \"https://www.metro.pe/limon-tahiti-metro-x-kg-4080/p\", \"price\": 3.49, \"store\": \"metro\", \"date\": \"2022-09-12T00:00:00\"}, {\"sku\": 2821, \"name\": \"lim\\u00f3n x kg (metro)\", \"brand\": \".\", \"category\": \"https://www.metro.pe/frutas-y-verduras/frutas/limones\", \"uri\": \"https://www.metro.pe/limon-x-kg-4029/p\", \"price\": 4.79, \"store\": \"metro\", \"date\": \"2023-04-06T00:00:00\"}, {\"sku\": 2821, \"name\": \"lim\\u00f3n x kg (metro)\", \"brand\": \"Gen\\u00e9rico\", \"category\": \"https://www.metro.pe/frutas-y-verduras/frutas/limones\", \"uri\": \"https://www.metro.pe/limon-x-kg-4029/p\", \"price\": 5.89, \"store\": \"metro\", \"date\": \"2023-06-19T00:00:00\"}, {\"sku\": 33588, \"name\": \"lim\\u00f3n tahiti metro x kg (metro)\", \"brand\": \"Metro\", \"category\": \"https://www.metro.pe/frutas-y-verduras/frutas/limones\", \"uri\": \"https://www.metro.pe/limon-tahiti-metro-x-kg-4080/p\", \"price\": 3.49, \"store\": \"metro\", \"date\": \"2023-06-19T00:00:00\"}, {\"sku\": 2821, \"name\": \"lim\\u00f3n x kg (wong)\", \"brand\": \"Wong\", \"category\": \"https://www.wong.pe/frutas-y-verduras/frutas/limones\", \"uri\": \"https://www.wong.pe/limon-x-kg-4029/p\", \"price\": 7.19, \"store\": \"wong\", \"date\": \"2022-09-19T00:00:00\"}, {\"sku\": 2821, \"name\": \"lim\\u00f3n x kg (metro)\", \"brand\": \".\", \"category\": \"https://www.metro.pe/frutas-y-verduras/frutas/limones\", \"uri\": \"https://www.metro.pe/limon-x-kg-4029/p\", \"price\": 4.79, \"store\": \"metro\", \"date\": \"2023-04-10T00:00:00\"}, {\"sku\": 33588, \"name\": \"lim\\u00f3n tahiti metro x kg (metro)\", \"brand\": \"Metro\", \"category\": \"https://www.metro.pe/frutas-y-verduras/frutas/limones\", \"uri\": \"https://www.metro.pe/limon-tahiti-metro-x-kg-4080/p\", \"price\": 3.49, \"store\": \"metro\", \"date\": \"2023-06-22T00:00:00\"}, {\"sku\": 2821, \"name\": \"lim\\u00f3n x kg (metro)\", \"brand\": \"Gen\\u00e9rico\", \"category\": \"https://www.metro.pe/frutas-y-verduras/frutas/limones\", \"uri\": \"https://www.metro.pe/limon-x-kg-4029/p\", \"price\": 5.39, \"store\": \"metro\", \"date\": \"2023-06-22T00:00:00\"}, {\"sku\": 33588, \"name\": \"lim\\u00f3n tahiti metro x kg (metro)\", \"brand\": \"Metro\", \"category\": \"https://www.metro.pe/frutas-y-verduras/frutas/limones\", \"uri\": \"https://www.metro.pe/limon-tahiti-metro-x-kg-4080/p\", \"price\": 3.49, \"store\": \"metro\", \"date\": \"2022-10-10T00:00:00\"}, {\"sku\": 33588, \"name\": \"lim\\u00f3n tahiti metro x kg (metro)\", \"brand\": \"Metro\", \"category\": \"https://www.metro.pe/frutas-y-verduras/frutas/limones\", \"uri\": \"https://www.metro.pe/limon-tahiti-metro-x-kg-4080/p\", \"price\": 3.49, \"store\": \"metro\", \"date\": \"2022-10-06T00:00:00\"}, {\"sku\": 33588, \"name\": \"lim\\u00f3n tahiti metro x kg (metro)\", \"brand\": \"Metro\", \"category\": \"https://www.metro.pe/frutas-y-verduras/frutas/limones\", \"uri\": \"https://www.metro.pe/limon-tahiti-metro-x-kg-4080/p\", \"price\": 3.49, \"store\": \"metro\", \"date\": \"2022-09-01T00:00:00\"}, {\"sku\": 2821, \"name\": \"lim\\u00f3n x kg (metro)\", \"brand\": \"Gen\\u00e9rico\", \"category\": \"https://www.metro.pe/frutas-y-verduras/frutas/limones\", \"uri\": \"https://www.metro.pe/limon-x-kg-4029/p\", \"price\": 5.99, \"store\": \"metro\", \"date\": \"2023-07-03T00:00:00\"}, {\"sku\": 2821, \"name\": \"lim\\u00f3n x kg (metro)\", \"brand\": \"Gen\\u00e9rico\", \"category\": \"https://www.metro.pe/frutas-y-verduras/frutas/limones\", \"uri\": \"https://www.metro.pe/limon-x-kg-4029/p\", \"price\": 6.79, \"store\": \"metro\", \"date\": \"2023-07-24T00:00:00\"}, {\"sku\": 33588, \"name\": \"lim\\u00f3n tahiti metro x kg (metro)\", \"brand\": \"Metro\", \"category\": \"https://www.metro.pe/frutas-y-verduras/frutas/limones\", \"uri\": \"https://www.metro.pe/limon-tahiti-metro-x-kg-4080/p\", \"price\": 3.49, \"store\": \"metro\", \"date\": \"2023-05-01T00:00:00\"}, {\"sku\": 2821, \"name\": \"lim\\u00f3n x kg (metro)\", \"brand\": \"Gen\\u00e9rico\", \"category\": \"https://www.metro.pe/frutas-y-verduras/frutas/limones\", \"uri\": \"https://www.metro.pe/limon-x-kg-4029/p\", \"price\": 5.19, \"store\": \"metro\", \"date\": \"2023-05-01T00:00:00\"}, {\"sku\": 2821, \"name\": \"lim\\u00f3n x kg (metro)\", \"brand\": \".\", \"category\": \"https://www.metro.pe/frutas-y-verduras/frutas/limones\", \"uri\": \"https://www.metro.pe/limon-x-kg-4029/p\", \"price\": 5.49, \"store\": \"metro\", \"date\": \"2023-04-03T00:00:00\"}, {\"sku\": 33588, \"name\": \"lim\\u00f3n tahiti metro x kg (metro)\", \"brand\": \"Metro\", \"category\": \"https://www.metro.pe/frutas-y-verduras/frutas/limones\", \"uri\": \"https://www.metro.pe/limon-tahiti-metro-x-kg-4080/p\", \"price\": 3.49, \"store\": \"metro\", \"date\": \"2023-05-25T00:00:00\"}, {\"sku\": 2821, \"name\": \"lim\\u00f3n x kg (metro)\", \"brand\": \"Gen\\u00e9rico\", \"category\": \"https://www.metro.pe/frutas-y-verduras/frutas/limones\", \"uri\": \"https://www.metro.pe/limon-x-kg-4029/p\", \"price\": 4.29, \"store\": \"metro\", \"date\": \"2023-05-25T00:00:00\"}, {\"sku\": 2821, \"name\": \"lim\\u00f3n x kg (metro)\", \"brand\": \"Gen\\u00e9rico\", \"category\": \"https://www.metro.pe/frutas-y-verduras/frutas/limones\", \"uri\": \"https://www.metro.pe/limon-x-kg-4029/p\", \"price\": 5.89, \"store\": \"metro\", \"date\": \"2023-06-15T00:00:00\"}, {\"sku\": 33588, \"name\": \"lim\\u00f3n tahiti metro x kg (metro)\", \"brand\": \"Metro\", \"category\": \"https://www.metro.pe/frutas-y-verduras/frutas/limones\", \"uri\": \"https://www.metro.pe/limon-tahiti-metro-x-kg-4080/p\", \"price\": 3.49, \"store\": \"metro\", \"date\": \"2023-06-15T00:00:00\"}, {\"sku\": 33588, \"name\": \"lim\\u00f3n tahiti metro x kg (metro)\", \"brand\": \"Metro\", \"category\": \"https://www.metro.pe/frutas-y-verduras/frutas/limones\", \"uri\": \"https://www.metro.pe/limon-tahiti-metro-x-kg-4080/p\", \"price\": 3.49, \"store\": \"metro\", \"date\": \"2023-05-22T00:00:00\"}, {\"sku\": 2821, \"name\": \"lim\\u00f3n x kg (metro)\", \"brand\": \"Gen\\u00e9rico\", \"category\": \"https://www.metro.pe/frutas-y-verduras/frutas/limones\", \"uri\": \"https://www.metro.pe/limon-x-kg-4029/p\", \"price\": 4.29, \"store\": \"metro\", \"date\": \"2023-05-22T00:00:00\"}, {\"sku\": 2821, \"name\": \"lim\\u00f3n x kg (metro)\", \"brand\": \"Gen\\u00e9rico\", \"category\": \"https://www.metro.pe/frutas-y-verduras/frutas/limones\", \"uri\": \"https://www.metro.pe/limon-x-kg-4029/p\", \"price\": 4.99, \"store\": \"metro\", \"date\": \"2023-04-20T00:00:00\"}, {\"sku\": 33588, \"name\": \"lim\\u00f3n tahiti metro x kg (metro)\", \"brand\": \"Metro\", \"category\": \"https://www.metro.pe/frutas-y-verduras/frutas/limones\", \"uri\": \"https://www.metro.pe/limon-tahiti-metro-x-kg-4080/p\", \"price\": 3.49, \"store\": \"metro\", \"date\": \"2023-04-20T00:00:00\"}, {\"sku\": 33588, \"name\": \"lim\\u00f3n tahiti metro x kg (metro)\", \"brand\": \"Metro\", \"category\": \"https://www.metro.pe/frutas-y-verduras/frutas/limones\", \"uri\": \"https://www.metro.pe/limon-tahiti-metro-x-kg-4080/p\", \"price\": 3.49, \"store\": \"metro\", \"date\": \"2023-06-08T00:00:00\"}, {\"sku\": 2821, \"name\": \"lim\\u00f3n x kg (metro)\", \"brand\": \"Gen\\u00e9rico\", \"category\": \"https://www.metro.pe/frutas-y-verduras/frutas/limones\", \"uri\": \"https://www.metro.pe/limon-x-kg-4029/p\", \"price\": 4.99, \"store\": \"metro\", \"date\": \"2023-06-08T00:00:00\"}, {\"sku\": 33588, \"name\": \"lim\\u00f3n tahiti metro x kg (metro)\", \"brand\": \"Metro\", \"category\": \"https://www.metro.pe/frutas-y-verduras/frutas/limones\", \"uri\": \"https://www.metro.pe/limon-tahiti-metro-x-kg-4080/p\", \"price\": 3.49, \"store\": \"metro\", \"date\": \"2023-05-18T00:00:00\"}, {\"sku\": 2821, \"name\": \"lim\\u00f3n x kg (metro)\", \"brand\": \"Gen\\u00e9rico\", \"category\": \"https://www.metro.pe/frutas-y-verduras/frutas/limones\", \"uri\": \"https://www.metro.pe/limon-x-kg-4029/p\", \"price\": 4.29, \"store\": \"metro\", \"date\": \"2023-05-18T00:00:00\"}, {\"sku\": 2821, \"name\": \"lim\\u00f3n x kg (wong)\", \"brand\": \"Wong\", \"category\": \"https://www.wong.pe/frutas-y-verduras/frutas/limones\", \"uri\": \"https://www.wong.pe/limon-x-kg-4029/p\", \"price\": 6.49, \"store\": \"wong\", \"date\": \"2022-09-04T00:00:00\"}, {\"sku\": 2821, \"name\": \"lim\\u00f3n x kg (metro)\", \"brand\": \"Gen\\u00e9rico\", \"category\": \"https://www.metro.pe/frutas-y-verduras/frutas/limones\", \"uri\": \"https://www.metro.pe/limon-x-kg-4029/p\", \"price\": 5.49, \"store\": \"metro\", \"date\": \"2023-07-06T00:00:00\"}, {\"sku\": 2821, \"name\": \"lim\\u00f3n x kg (wong)\", \"brand\": \"Wong\", \"category\": \"https://www.wong.pe/frutas-y-verduras/frutas/limones\", \"uri\": \"https://www.wong.pe/limon-x-kg-4029/p\", \"price\": 6.49, \"store\": \"wong\", \"date\": \"2022-09-03T00:00:00\"}, {\"sku\": 2821, \"name\": \"lim\\u00f3n x kg (metro)\", \"brand\": \"Gen\\u00e9rico\", \"category\": \"https://www.metro.pe/frutas-y-verduras/frutas/limones\", \"uri\": \"https://www.metro.pe/limon-x-kg-4029/p\", \"price\": 5.19, \"store\": \"metro\", \"date\": \"2023-04-27T00:00:00\"}, {\"sku\": 2821, \"name\": \"lim\\u00f3n x kg (metro)\", \"brand\": \"Gen\\u00e9rico\", \"category\": \"https://www.metro.pe/frutas-y-verduras/frutas/limones\", \"uri\": \"https://www.metro.pe/limon-x-kg-4029/p\", \"price\": 5.19, \"store\": \"metro\", \"date\": \"2023-06-12T00:00:00\"}, {\"sku\": 33588, \"name\": \"lim\\u00f3n tahiti metro x kg (metro)\", \"brand\": \"Metro\", \"category\": \"https://www.metro.pe/frutas-y-verduras/frutas/limones\", \"uri\": \"https://www.metro.pe/limon-tahiti-metro-x-kg-4080/p\", \"price\": 3.49, \"store\": \"metro\", \"date\": \"2023-06-12T00:00:00\"}, {\"sku\": 2821, \"name\": \"lim\\u00f3n x kg (metro)\", \"brand\": \"Gen\\u00e9rico\", \"category\": \"https://www.metro.pe/frutas-y-verduras/frutas/limones\", \"uri\": \"https://www.metro.pe/limon-x-kg-4029/p\", \"price\": 5.79, \"store\": \"metro\", \"date\": \"2023-06-26T00:00:00\"}, {\"sku\": 2821, \"name\": \"lim\\u00f3n x kg (metro)\", \"brand\": \"Gen\\u00e9rico\", \"category\": \"https://www.metro.pe/frutas-y-verduras/frutas/limones\", \"uri\": \"https://www.metro.pe/limon-x-kg-4029/p\", \"price\": 5.69, \"store\": \"metro\", \"date\": \"2023-07-17T00:00:00\"}, {\"sku\": 2821, \"name\": \"lim\\u00f3n x kg (wong)\", \"brand\": \"Wong\", \"category\": \"https://www.wong.pe/frutas-y-verduras/frutas/limones\", \"uri\": \"https://www.wong.pe/limon-x-kg-4029/p\", \"price\": 6.49, \"store\": \"wong\", \"date\": \"2022-09-02T00:00:00\"}, {\"sku\": 33588, \"name\": \"lim\\u00f3n tahiti metro x kg (metro)\", \"brand\": \"Metro\", \"category\": \"https://www.metro.pe/frutas-y-verduras/frutas/limones\", \"uri\": \"https://www.metro.pe/limon-tahiti-metro-x-kg-4080/p\", \"price\": 3.49, \"store\": \"metro\", \"date\": \"2023-03-06T00:00:00\"}, {\"sku\": 33588, \"name\": \"lim\\u00f3n tahiti metro x kg (metro)\", \"brand\": \"Metro\", \"category\": \"https://www.metro.pe/frutas-y-verduras/frutas/limones\", \"uri\": \"https://www.metro.pe/limon-tahiti-metro-x-kg-4080/p\", \"price\": 3.49, \"store\": \"metro\", \"date\": \"2023-05-08T00:00:00\"}, {\"sku\": 2821, \"name\": \"lim\\u00f3n x kg (metro)\", \"brand\": \"Gen\\u00e9rico\", \"category\": \"https://www.metro.pe/frutas-y-verduras/frutas/limones\", \"uri\": \"https://www.metro.pe/limon-x-kg-4029/p\", \"price\": 4.29, \"store\": \"metro\", \"date\": \"2023-05-08T00:00:00\"}, {\"sku\": 2821, \"name\": \"lim\\u00f3n x kg (metro)\", \"brand\": \"Gen\\u00e9rico\", \"category\": \"https://www.metro.pe/frutas-y-verduras/frutas/limones\", \"uri\": \"https://www.metro.pe/limon-x-kg-4029/p\", \"price\": 5.99, \"store\": \"metro\", \"date\": \"2023-06-29T00:00:00\"}, {\"sku\": 33588, \"name\": \"lim\\u00f3n tahiti metro x kg (metro)\", \"brand\": \"Metro\", \"category\": \"https://www.metro.pe/frutas-y-verduras/frutas/limones\", \"uri\": \"https://www.metro.pe/limon-tahiti-metro-x-kg-4080/p\", \"price\": 3.49, \"store\": \"metro\", \"date\": \"2023-06-29T00:00:00\"}, {\"sku\": 2821, \"name\": \"lim\\u00f3n x kg (wong)\", \"brand\": \"Wong\", \"category\": \"https://www.wong.pe/frutas-y-verduras/frutas/limones\", \"uri\": \"https://www.wong.pe/limon-x-kg-4029/p\", \"price\": 6.49, \"store\": \"wong\", \"date\": \"2022-09-05T00:00:00\"}, {\"sku\": 2915, \"name\": \"lim\\u00f3n tah\\u00edti x kg (wong)\", \"brand\": \"Wong\", \"category\": \"https://www.wong.pe/frutas-y-verduras/frutas/limones\", \"uri\": \"https://www.wong.pe/limon-tahiti-x-kg-72923/p\", \"price\": 3.69, \"store\": \"wong\", \"date\": \"2022-09-05T00:00:00\"}, {\"sku\": 2821, \"name\": \"lim\\u00f3n x kg (metro)\", \"brand\": \"Gen\\u00e9rico\", \"category\": \"https://www.metro.pe/frutas-y-verduras/frutas/limones\", \"uri\": \"https://www.metro.pe/limon-x-kg-4029/p\", \"price\": 4.29, \"store\": \"metro\", \"date\": \"2023-05-11T00:00:00\"}, {\"sku\": 33588, \"name\": \"lim\\u00f3n tahiti metro x kg (metro)\", \"brand\": \"Metro\", \"category\": \"https://www.metro.pe/frutas-y-verduras/frutas/limones\", \"uri\": \"https://www.metro.pe/limon-tahiti-metro-x-kg-4080/p\", \"price\": 3.49, \"store\": \"metro\", \"date\": \"2023-05-11T00:00:00\"}, {\"sku\": 2821, \"name\": \"lim\\u00f3n x kg (metro)\", \"brand\": \"Gen\\u00e9rico\", \"category\": \"https://www.metro.pe/frutas-y-verduras/frutas/limones\", \"uri\": \"https://www.metro.pe/limon-x-kg-4029/p\", \"price\": 5.49, \"store\": \"metro\", \"date\": \"2023-07-10T00:00:00\"}]}}, {\"mode\": \"vega-lite\"});\n",
       "</script>"
      ],
      "text/plain": [
       "alt.Chart(...)"
      ]
     },
     "execution_count": null,
     "metadata": {},
     "output_type": "execute_result"
    }
   ],
   "source": [
    "(df\n",
    " .loc[df.name.isin(names)]\n",
    " .pipe(alt.Chart)\n",
    " .mark_line(point=True)\n",
    " .encode(x='date', y='price', color='name', tooltip=['name','price'])\n",
    " .properties(width=650, title='Aceite')\n",
    " .interactive()\n",
    " .configure_legend(orient='top', columns=3)\n",
    ")"
   ]
  },
  {
   "cell_type": "code",
   "execution_count": null,
   "metadata": {},
   "outputs": [],
   "source": []
  },
  {
   "cell_type": "code",
   "execution_count": null,
   "metadata": {},
   "outputs": [],
   "source": []
  },
  {
   "cell_type": "code",
   "execution_count": null,
   "metadata": {},
   "outputs": [],
   "source": []
  }
 ],
 "metadata": {
  "kernelspec": {
   "display_name": "python3",
   "language": "python",
   "name": "python3"
  }
 },
 "nbformat": 4,
 "nbformat_minor": 2
}
